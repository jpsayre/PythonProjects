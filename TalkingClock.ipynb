{
 "cells": [
  {
   "cell_type": "code",
   "execution_count": 70,
   "metadata": {
    "collapsed": false
   },
   "outputs": [
    {
     "name": "stdout",
     "output_type": "stream",
     "text": [
      "It's Twelve Thirty One PM\n"
     ]
    }
   ],
   "source": [
    "def analyzeTime(x):\n",
    "    x,y = x.split(':')\n",
    "    x,y = int(x),int(y)\n",
    "    \n",
    "    if x>=12:\n",
    "        z = 'PM'\n",
    "    else:\n",
    "        z = 'AM'\n",
    "        \n",
    "    if y > 9:\n",
    "        o = ' '\n",
    "    else:\n",
    "        o = \" o' \"\n",
    "        \n",
    "    if x>12:\n",
    "        x = x-12\n",
    "    if x == 0:\n",
    "        x=12\n",
    "        \n",
    "    lookup = {0:'',1:'One',2:'Two',3:'Three',4:'Four',5:'Five',6:'Six',7:'Seven',8:'Eight',9:'Nine',10:'Ten',11:'Eleven',12:'Twelve',\n",
    "             13:'Thirteen',14:'Fourteen',15:'Fifteen',16:'Sixteen',17:'Seventeen',18:'Eighteen',19:'Nineteen'}\n",
    "    Dlookup = {2:'Twenty',3:'Thirty',4:'Fourty',5:'Fifty'}\n",
    "        \n",
    "    x = lookup[x]\n",
    "    \n",
    "    if y == 0:\n",
    "        sec=''\n",
    "        o = ''\n",
    "    \n",
    "    if 0<y<20:\n",
    "        sec = lookup[y]\n",
    "        \n",
    "    if y>= 20:\n",
    "        tempY = str(y)\n",
    "        a,b = int(tempY[0]),int(tempY[1])\n",
    "        a = Dlookup[a]\n",
    "        b = lookup[b]\n",
    "        \n",
    "        sec = a+' '+b\n",
    "        if b == '':\n",
    "            sec = a\n",
    "        \n",
    "    print(\"It's {}{}{} {}\".format(x,o,sec,z))\n",
    "    \n",
    "analyzeTime('12:31')"
   ]
  },
  {
   "cell_type": "code",
   "execution_count": null,
   "metadata": {
    "collapsed": true
   },
   "outputs": [],
   "source": []
  }
 ],
 "metadata": {
  "kernelspec": {
   "display_name": "Python 3",
   "language": "python",
   "name": "python3"
  },
  "language_info": {
   "codemirror_mode": {
    "name": "ipython",
    "version": 3
   },
   "file_extension": ".py",
   "mimetype": "text/x-python",
   "name": "python",
   "nbconvert_exporter": "python",
   "pygments_lexer": "ipython3",
   "version": "3.6.0"
  }
 },
 "nbformat": 4,
 "nbformat_minor": 2
}
